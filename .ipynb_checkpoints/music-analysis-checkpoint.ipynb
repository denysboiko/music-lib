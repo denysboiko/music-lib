{
 "cells": [
  {
   "cell_type": "code",
   "execution_count": 122,
   "metadata": {},
   "outputs": [],
   "source": [
    "import hashlib\n",
    "import eyed3\n",
    "import sys, os\n",
    "import numpy as np\n",
    "import pandas as pd\n",
    "import glob\n",
    "from tinytag import TinyTag\n",
    "import re"
   ]
  },
  {
   "cell_type": "code",
   "execution_count": 4,
   "metadata": {},
   "outputs": [],
   "source": [
    "def md5(fname):\n",
    "    hash_md5 = hashlib.md5()\n",
    "    with open(fname, \"rb\") as f:\n",
    "        for chunk in iter(lambda: f.read(4096), b\"\"):\n",
    "            hash_md5.update(chunk)\n",
    "    return hash_md5.hexdigest()"
   ]
  },
  {
   "cell_type": "code",
   "execution_count": 97,
   "metadata": {},
   "outputs": [],
   "source": [
    "def absoluteFilePaths(directory):\n",
    "    for dirpath,_,filenames in os.walk(directory):\n",
    "        for f in filenames:\n",
    "            if not (f.startswith(\".\")):\n",
    "                yield os.path.abspath(os.path.join(dirpath, f))"
   ]
  },
  {
   "cell_type": "code",
   "execution_count": 98,
   "metadata": {},
   "outputs": [],
   "source": [
    "root = \"/Volumes/Transcend/iTunes/iTunes Media/Music\"\n",
    "file_paths = list(absoluteFilePaths(root))"
   ]
  },
  {
   "cell_type": "code",
   "execution_count": 84,
   "metadata": {},
   "outputs": [],
   "source": [
    "arr = np.array(file_paths)"
   ]
  },
  {
   "cell_type": "code",
   "execution_count": 88,
   "metadata": {},
   "outputs": [],
   "source": [
    "map(lambda path: path.split('.')[-1::][0], file_paths)"
   ]
  },
  {
   "cell_type": "code",
   "execution_count": 89,
   "metadata": {},
   "outputs": [
    {
     "data": {
      "text/plain": [
       "<map at 0x11f1a3ee0>"
      ]
     },
     "execution_count": 89,
     "metadata": {},
     "output_type": "execute_result"
    }
   ],
   "source": []
  },
  {
   "cell_type": "code",
   "execution_count": 99,
   "metadata": {},
   "outputs": [
    {
     "data": {
      "text/plain": [
       "10624"
      ]
     },
     "execution_count": 99,
     "metadata": {},
     "output_type": "execute_result"
    }
   ],
   "source": [
    "len(file_paths)"
   ]
  },
  {
   "cell_type": "code",
   "execution_count": null,
   "metadata": {},
   "outputs": [],
   "source": []
  },
  {
   "cell_type": "code",
   "execution_count": null,
   "metadata": {},
   "outputs": [],
   "source": []
  },
  {
   "cell_type": "code",
   "execution_count": null,
   "metadata": {},
   "outputs": [],
   "source": []
  },
  {
   "cell_type": "code",
   "execution_count": null,
   "metadata": {},
   "outputs": [],
   "source": []
  },
  {
   "cell_type": "code",
   "execution_count": null,
   "metadata": {},
   "outputs": [],
   "source": []
  },
  {
   "cell_type": "code",
   "execution_count": null,
   "metadata": {},
   "outputs": [],
   "source": []
  },
  {
   "cell_type": "code",
   "execution_count": 133,
   "metadata": {},
   "outputs": [
    {
     "data": {
      "text/html": [
       "<div>\n",
       "<style scoped>\n",
       "    .dataframe tbody tr th:only-of-type {\n",
       "        vertical-align: middle;\n",
       "    }\n",
       "\n",
       "    .dataframe tbody tr th {\n",
       "        vertical-align: top;\n",
       "    }\n",
       "\n",
       "    .dataframe thead th {\n",
       "        text-align: right;\n",
       "    }\n",
       "</style>\n",
       "<table border=\"1\" class=\"dataframe\">\n",
       "  <thead>\n",
       "    <tr style=\"text-align: right;\">\n",
       "      <th></th>\n",
       "      <th>path</th>\n",
       "      <th>ext</th>\n",
       "      <th>artist</th>\n",
       "      <th>album</th>\n",
       "      <th>year</th>\n",
       "      <th>title</th>\n",
       "      <th>md5</th>\n",
       "    </tr>\n",
       "  </thead>\n",
       "  <tbody>\n",
       "    <tr>\n",
       "      <th>0</th>\n",
       "      <td>/Volumes/Transcend/iTunes/iTunes Media/Music/D...</td>\n",
       "      <td>mp3</td>\n",
       "      <td>Deep Purple</td>\n",
       "      <td>The Book Of Taliesyn (2000. 6-70211-5063-2)</td>\n",
       "      <td>1968</td>\n",
       "      <td>Playground</td>\n",
       "      <td>a98ab3c19b4f1b14f010de2eb0bb715a</td>\n",
       "    </tr>\n",
       "    <tr>\n",
       "      <th>1</th>\n",
       "      <td>/Volumes/Transcend/iTunes/iTunes Media/Music/D...</td>\n",
       "      <td>mp3</td>\n",
       "      <td>Deep Purple</td>\n",
       "      <td>The Book Of Taliesyn (2000. 6-70211-5063-2)</td>\n",
       "      <td>1968</td>\n",
       "      <td>It's All Over</td>\n",
       "      <td>250ee69621388657e35846c214ab1177</td>\n",
       "    </tr>\n",
       "    <tr>\n",
       "      <th>2</th>\n",
       "      <td>/Volumes/Transcend/iTunes/iTunes Media/Music/D...</td>\n",
       "      <td>mp3</td>\n",
       "      <td>Deep Purple</td>\n",
       "      <td>The Book Of Taliesyn (2000. 6-70211-5063-2)</td>\n",
       "      <td>1968</td>\n",
       "      <td>Oh No No No</td>\n",
       "      <td>8a673b83aa860863553ab60127ddc011</td>\n",
       "    </tr>\n",
       "    <tr>\n",
       "      <th>3</th>\n",
       "      <td>/Volumes/Transcend/iTunes/iTunes Media/Music/D...</td>\n",
       "      <td>mp3</td>\n",
       "      <td>Deep Purple</td>\n",
       "      <td>The Book Of Taliesyn (2000. 6-70211-5063-2)</td>\n",
       "      <td>1968</td>\n",
       "      <td>Wring That Neck</td>\n",
       "      <td>04aa3e177363baf181f2aa5f873974a9</td>\n",
       "    </tr>\n",
       "    <tr>\n",
       "      <th>4</th>\n",
       "      <td>/Volumes/Transcend/iTunes/iTunes Media/Music/D...</td>\n",
       "      <td>mp3</td>\n",
       "      <td>Deep Purple</td>\n",
       "      <td>The Book Of Taliesyn (2000. 6-70211-5063-2)</td>\n",
       "      <td>1968</td>\n",
       "      <td>Kentucky Woman</td>\n",
       "      <td>a677521cde4154dae7348742de2c96a1</td>\n",
       "    </tr>\n",
       "    <tr>\n",
       "      <th>...</th>\n",
       "      <td>...</td>\n",
       "      <td>...</td>\n",
       "      <td>...</td>\n",
       "      <td>...</td>\n",
       "      <td>...</td>\n",
       "      <td>...</td>\n",
       "      <td>...</td>\n",
       "    </tr>\n",
       "    <tr>\n",
       "      <th>10619</th>\n",
       "      <td>/Volumes/Transcend/iTunes/iTunes Media/Music/L...</td>\n",
       "      <td>m4a</td>\n",
       "      <td>Lara Fabian</td>\n",
       "      <td>Pure</td>\n",
       "      <td>1996</td>\n",
       "      <td>Je T'aime</td>\n",
       "      <td>3685dc217b3d888c4d0ef0d218157c62</td>\n",
       "    </tr>\n",
       "    <tr>\n",
       "      <th>10620</th>\n",
       "      <td>/Volumes/Transcend/iTunes/iTunes Media/Music/A...</td>\n",
       "      <td>mp3</td>\n",
       "      <td>April March</td>\n",
       "      <td>Chick Habit</td>\n",
       "      <td>1995</td>\n",
       "      <td>Chick Habit</td>\n",
       "      <td>6082c41bdbfb91a02ffe598d045053dd</td>\n",
       "    </tr>\n",
       "    <tr>\n",
       "      <th>10621</th>\n",
       "      <td>/Volumes/Transcend/iTunes/iTunes Media/Music/L...</td>\n",
       "      <td>mp3</td>\n",
       "      <td>Laura Branigan</td>\n",
       "      <td>Self Control</td>\n",
       "      <td>1984</td>\n",
       "      <td>Self Control</td>\n",
       "      <td>adb49bee4dda365b396dec3bcffe2046</td>\n",
       "    </tr>\n",
       "    <tr>\n",
       "      <th>10622</th>\n",
       "      <td>/Volumes/Transcend/iTunes/iTunes Media/Music/S...</td>\n",
       "      <td>mp3</td>\n",
       "      <td>Skeeter Davis</td>\n",
       "      <td>The Best Of Skeeter Davis</td>\n",
       "      <td>1964</td>\n",
       "      <td>The End Of The World</td>\n",
       "      <td>a4f8495782b4700c1e659402fbc397d6</td>\n",
       "    </tr>\n",
       "    <tr>\n",
       "      <th>10623</th>\n",
       "      <td>/Volumes/Transcend/iTunes/iTunes Media/Music/W...</td>\n",
       "      <td>mp3</td>\n",
       "      <td>Wye Oak</td>\n",
       "      <td>Civilian</td>\n",
       "      <td>2011</td>\n",
       "      <td>Civilian</td>\n",
       "      <td>eaf9f46dd4e1cf65eeb41a376c166b48</td>\n",
       "    </tr>\n",
       "  </tbody>\n",
       "</table>\n",
       "<p>10624 rows × 7 columns</p>\n",
       "</div>"
      ],
      "text/plain": [
       "                                                    path  ext          artist  \\\n",
       "0      /Volumes/Transcend/iTunes/iTunes Media/Music/D...  mp3     Deep Purple   \n",
       "1      /Volumes/Transcend/iTunes/iTunes Media/Music/D...  mp3     Deep Purple   \n",
       "2      /Volumes/Transcend/iTunes/iTunes Media/Music/D...  mp3     Deep Purple   \n",
       "3      /Volumes/Transcend/iTunes/iTunes Media/Music/D...  mp3     Deep Purple   \n",
       "4      /Volumes/Transcend/iTunes/iTunes Media/Music/D...  mp3     Deep Purple   \n",
       "...                                                  ...  ...             ...   \n",
       "10619  /Volumes/Transcend/iTunes/iTunes Media/Music/L...  m4a     Lara Fabian   \n",
       "10620  /Volumes/Transcend/iTunes/iTunes Media/Music/A...  mp3     April March   \n",
       "10621  /Volumes/Transcend/iTunes/iTunes Media/Music/L...  mp3  Laura Branigan   \n",
       "10622  /Volumes/Transcend/iTunes/iTunes Media/Music/S...  mp3   Skeeter Davis   \n",
       "10623  /Volumes/Transcend/iTunes/iTunes Media/Music/W...  mp3         Wye Oak   \n",
       "\n",
       "                                             album  year  \\\n",
       "0      The Book Of Taliesyn (2000. 6-70211-5063-2)  1968   \n",
       "1      The Book Of Taliesyn (2000. 6-70211-5063-2)  1968   \n",
       "2      The Book Of Taliesyn (2000. 6-70211-5063-2)  1968   \n",
       "3      The Book Of Taliesyn (2000. 6-70211-5063-2)  1968   \n",
       "4      The Book Of Taliesyn (2000. 6-70211-5063-2)  1968   \n",
       "...                                            ...   ...   \n",
       "10619                                         Pure  1996   \n",
       "10620                                  Chick Habit  1995   \n",
       "10621                                 Self Control  1984   \n",
       "10622                    The Best Of Skeeter Davis  1964   \n",
       "10623                                     Civilian  2011   \n",
       "\n",
       "                      title                               md5  \n",
       "0                Playground  a98ab3c19b4f1b14f010de2eb0bb715a  \n",
       "1             It's All Over  250ee69621388657e35846c214ab1177  \n",
       "2               Oh No No No  8a673b83aa860863553ab60127ddc011  \n",
       "3           Wring That Neck  04aa3e177363baf181f2aa5f873974a9  \n",
       "4            Kentucky Woman  a677521cde4154dae7348742de2c96a1  \n",
       "...                     ...                               ...  \n",
       "10619             Je T'aime  3685dc217b3d888c4d0ef0d218157c62  \n",
       "10620           Chick Habit  6082c41bdbfb91a02ffe598d045053dd  \n",
       "10621          Self Control  adb49bee4dda365b396dec3bcffe2046  \n",
       "10622  The End Of The World  a4f8495782b4700c1e659402fbc397d6  \n",
       "10623              Civilian  eaf9f46dd4e1cf65eeb41a376c166b48  \n",
       "\n",
       "[10624 rows x 7 columns]"
      ]
     },
     "execution_count": 133,
     "metadata": {},
     "output_type": "execute_result"
    }
   ],
   "source": [
    "files"
   ]
  },
  {
   "cell_type": "code",
   "execution_count": null,
   "metadata": {},
   "outputs": [],
   "source": []
  },
  {
   "cell_type": "code",
   "execution_count": null,
   "metadata": {},
   "outputs": [],
   "source": [
    "file_paths.map()"
   ]
  },
  {
   "cell_type": "code",
   "execution_count": 100,
   "metadata": {},
   "outputs": [],
   "source": [
    "\n",
    "files = pd.Series(file_paths).to_frame(name = 'path')"
   ]
  },
  {
   "cell_type": "code",
   "execution_count": 101,
   "metadata": {},
   "outputs": [],
   "source": [
    "files['ext'] = files.path.apply(lambda x: x.split('.')[-1::][0])"
   ]
  },
  {
   "cell_type": "code",
   "execution_count": 131,
   "metadata": {},
   "outputs": [],
   "source": [
    "files['md5'] = files.path.apply(md5)"
   ]
  },
  {
   "cell_type": "code",
   "execution_count": 118,
   "metadata": {},
   "outputs": [
    {
     "ename": "AttributeError",
     "evalue": "'str' object has no attribute 'decode'",
     "output_type": "error",
     "traceback": [
      "\u001b[0;31m---------------------------------------------------------------------------\u001b[0m",
      "\u001b[0;31mAttributeError\u001b[0m                            Traceback (most recent call last)",
      "\u001b[0;32m<ipython-input-118-7be86b5a28aa>\u001b[0m in \u001b[0;36m<module>\u001b[0;34m\u001b[0m\n\u001b[1;32m      3\u001b[0m \u001b[0mfiles\u001b[0m\u001b[0;34m[\u001b[0m\u001b[0;34m'title'\u001b[0m\u001b[0;34m]\u001b[0m \u001b[0;34m=\u001b[0m \u001b[0mtags\u001b[0m\u001b[0;34m.\u001b[0m\u001b[0mmap\u001b[0m\u001b[0;34m(\u001b[0m\u001b[0;32mlambda\u001b[0m \u001b[0mpath\u001b[0m\u001b[0;34m:\u001b[0m \u001b[0mpath\u001b[0m\u001b[0;34m.\u001b[0m\u001b[0mtitle\u001b[0m\u001b[0;34m)\u001b[0m\u001b[0;34m\u001b[0m\u001b[0;34m\u001b[0m\u001b[0m\n\u001b[1;32m      4\u001b[0m \u001b[0;34m\u001b[0m\u001b[0m\n\u001b[0;32m----> 5\u001b[0;31m \u001b[0mfiles\u001b[0m\u001b[0;34m[\u001b[0m\u001b[0;34m'artist'\u001b[0m\u001b[0;34m]\u001b[0m \u001b[0;34m=\u001b[0m \u001b[0mfiles\u001b[0m\u001b[0;34m[\u001b[0m\u001b[0;34m'artist'\u001b[0m\u001b[0;34m]\u001b[0m\u001b[0;34m.\u001b[0m\u001b[0mapply\u001b[0m\u001b[0;34m(\u001b[0m\u001b[0;32mlambda\u001b[0m \u001b[0mtext\u001b[0m\u001b[0;34m:\u001b[0m \u001b[0mtext\u001b[0m\u001b[0;34m.\u001b[0m\u001b[0mdecode\u001b[0m\u001b[0;34m(\u001b[0m\u001b[0;34m\"utf-8\"\u001b[0m\u001b[0;34m,\u001b[0m \u001b[0;34m\"ignore\"\u001b[0m\u001b[0;34m)\u001b[0m\u001b[0;34m)\u001b[0m\u001b[0;34m\u001b[0m\u001b[0;34m\u001b[0m\u001b[0m\n\u001b[0m\u001b[1;32m      6\u001b[0m \u001b[0mfiles\u001b[0m\u001b[0;34m[\u001b[0m\u001b[0;34m'album'\u001b[0m\u001b[0;34m]\u001b[0m \u001b[0;34m=\u001b[0m \u001b[0mfiles\u001b[0m\u001b[0;34m[\u001b[0m\u001b[0;34m'album'\u001b[0m\u001b[0;34m]\u001b[0m\u001b[0;34m.\u001b[0m\u001b[0mapply\u001b[0m\u001b[0;34m(\u001b[0m\u001b[0;32mlambda\u001b[0m \u001b[0mtext\u001b[0m\u001b[0;34m:\u001b[0m \u001b[0mtext\u001b[0m\u001b[0;34m.\u001b[0m\u001b[0mdecode\u001b[0m\u001b[0;34m(\u001b[0m\u001b[0;34m\"utf-8\"\u001b[0m\u001b[0;34m,\u001b[0m \u001b[0;34m\"ignore\"\u001b[0m\u001b[0;34m)\u001b[0m\u001b[0;34m)\u001b[0m\u001b[0;34m\u001b[0m\u001b[0;34m\u001b[0m\u001b[0m\n\u001b[1;32m      7\u001b[0m \u001b[0mfiles\u001b[0m\u001b[0;34m[\u001b[0m\u001b[0;34m'title'\u001b[0m\u001b[0;34m]\u001b[0m \u001b[0;34m=\u001b[0m \u001b[0mfiles\u001b[0m\u001b[0;34m[\u001b[0m\u001b[0;34m'title'\u001b[0m\u001b[0;34m]\u001b[0m\u001b[0;34m.\u001b[0m\u001b[0mapply\u001b[0m\u001b[0;34m(\u001b[0m\u001b[0;32mlambda\u001b[0m \u001b[0mtext\u001b[0m\u001b[0;34m:\u001b[0m \u001b[0mtext\u001b[0m\u001b[0;34m.\u001b[0m\u001b[0mdecode\u001b[0m\u001b[0;34m(\u001b[0m\u001b[0;34m\"utf-8\"\u001b[0m\u001b[0;34m,\u001b[0m \u001b[0;34m\"ignore\"\u001b[0m\u001b[0;34m)\u001b[0m\u001b[0;34m)\u001b[0m\u001b[0;34m\u001b[0m\u001b[0;34m\u001b[0m\u001b[0m\n",
      "\u001b[0;32m/usr/local/lib/python3.9/site-packages/pandas/core/series.py\u001b[0m in \u001b[0;36mapply\u001b[0;34m(self, func, convert_dtype, args, **kwds)\u001b[0m\n\u001b[1;32m   4136\u001b[0m             \u001b[0;32melse\u001b[0m\u001b[0;34m:\u001b[0m\u001b[0;34m\u001b[0m\u001b[0;34m\u001b[0m\u001b[0m\n\u001b[1;32m   4137\u001b[0m                 \u001b[0mvalues\u001b[0m \u001b[0;34m=\u001b[0m \u001b[0mself\u001b[0m\u001b[0;34m.\u001b[0m\u001b[0mastype\u001b[0m\u001b[0;34m(\u001b[0m\u001b[0mobject\u001b[0m\u001b[0;34m)\u001b[0m\u001b[0;34m.\u001b[0m\u001b[0m_values\u001b[0m\u001b[0;34m\u001b[0m\u001b[0;34m\u001b[0m\u001b[0m\n\u001b[0;32m-> 4138\u001b[0;31m                 \u001b[0mmapped\u001b[0m \u001b[0;34m=\u001b[0m \u001b[0mlib\u001b[0m\u001b[0;34m.\u001b[0m\u001b[0mmap_infer\u001b[0m\u001b[0;34m(\u001b[0m\u001b[0mvalues\u001b[0m\u001b[0;34m,\u001b[0m \u001b[0mf\u001b[0m\u001b[0;34m,\u001b[0m \u001b[0mconvert\u001b[0m\u001b[0;34m=\u001b[0m\u001b[0mconvert_dtype\u001b[0m\u001b[0;34m)\u001b[0m\u001b[0;34m\u001b[0m\u001b[0;34m\u001b[0m\u001b[0m\n\u001b[0m\u001b[1;32m   4139\u001b[0m \u001b[0;34m\u001b[0m\u001b[0m\n\u001b[1;32m   4140\u001b[0m         \u001b[0;32mif\u001b[0m \u001b[0mlen\u001b[0m\u001b[0;34m(\u001b[0m\u001b[0mmapped\u001b[0m\u001b[0;34m)\u001b[0m \u001b[0;32mand\u001b[0m \u001b[0misinstance\u001b[0m\u001b[0;34m(\u001b[0m\u001b[0mmapped\u001b[0m\u001b[0;34m[\u001b[0m\u001b[0;36m0\u001b[0m\u001b[0;34m]\u001b[0m\u001b[0;34m,\u001b[0m \u001b[0mSeries\u001b[0m\u001b[0;34m)\u001b[0m\u001b[0;34m:\u001b[0m\u001b[0;34m\u001b[0m\u001b[0;34m\u001b[0m\u001b[0m\n",
      "\u001b[0;32mpandas/_libs/lib.pyx\u001b[0m in \u001b[0;36mpandas._libs.lib.map_infer\u001b[0;34m()\u001b[0m\n",
      "\u001b[0;32m<ipython-input-118-7be86b5a28aa>\u001b[0m in \u001b[0;36m<lambda>\u001b[0;34m(text)\u001b[0m\n\u001b[1;32m      3\u001b[0m \u001b[0mfiles\u001b[0m\u001b[0;34m[\u001b[0m\u001b[0;34m'title'\u001b[0m\u001b[0;34m]\u001b[0m \u001b[0;34m=\u001b[0m \u001b[0mtags\u001b[0m\u001b[0;34m.\u001b[0m\u001b[0mmap\u001b[0m\u001b[0;34m(\u001b[0m\u001b[0;32mlambda\u001b[0m \u001b[0mpath\u001b[0m\u001b[0;34m:\u001b[0m \u001b[0mpath\u001b[0m\u001b[0;34m.\u001b[0m\u001b[0mtitle\u001b[0m\u001b[0;34m)\u001b[0m\u001b[0;34m\u001b[0m\u001b[0;34m\u001b[0m\u001b[0m\n\u001b[1;32m      4\u001b[0m \u001b[0;34m\u001b[0m\u001b[0m\n\u001b[0;32m----> 5\u001b[0;31m \u001b[0mfiles\u001b[0m\u001b[0;34m[\u001b[0m\u001b[0;34m'artist'\u001b[0m\u001b[0;34m]\u001b[0m \u001b[0;34m=\u001b[0m \u001b[0mfiles\u001b[0m\u001b[0;34m[\u001b[0m\u001b[0;34m'artist'\u001b[0m\u001b[0;34m]\u001b[0m\u001b[0;34m.\u001b[0m\u001b[0mapply\u001b[0m\u001b[0;34m(\u001b[0m\u001b[0;32mlambda\u001b[0m \u001b[0mtext\u001b[0m\u001b[0;34m:\u001b[0m \u001b[0mtext\u001b[0m\u001b[0;34m.\u001b[0m\u001b[0mdecode\u001b[0m\u001b[0;34m(\u001b[0m\u001b[0;34m\"utf-8\"\u001b[0m\u001b[0;34m,\u001b[0m \u001b[0;34m\"ignore\"\u001b[0m\u001b[0;34m)\u001b[0m\u001b[0;34m)\u001b[0m\u001b[0;34m\u001b[0m\u001b[0;34m\u001b[0m\u001b[0m\n\u001b[0m\u001b[1;32m      6\u001b[0m \u001b[0mfiles\u001b[0m\u001b[0;34m[\u001b[0m\u001b[0;34m'album'\u001b[0m\u001b[0;34m]\u001b[0m \u001b[0;34m=\u001b[0m \u001b[0mfiles\u001b[0m\u001b[0;34m[\u001b[0m\u001b[0;34m'album'\u001b[0m\u001b[0;34m]\u001b[0m\u001b[0;34m.\u001b[0m\u001b[0mapply\u001b[0m\u001b[0;34m(\u001b[0m\u001b[0;32mlambda\u001b[0m \u001b[0mtext\u001b[0m\u001b[0;34m:\u001b[0m \u001b[0mtext\u001b[0m\u001b[0;34m.\u001b[0m\u001b[0mdecode\u001b[0m\u001b[0;34m(\u001b[0m\u001b[0;34m\"utf-8\"\u001b[0m\u001b[0;34m,\u001b[0m \u001b[0;34m\"ignore\"\u001b[0m\u001b[0;34m)\u001b[0m\u001b[0;34m)\u001b[0m\u001b[0;34m\u001b[0m\u001b[0;34m\u001b[0m\u001b[0m\n\u001b[1;32m      7\u001b[0m \u001b[0mfiles\u001b[0m\u001b[0;34m[\u001b[0m\u001b[0;34m'title'\u001b[0m\u001b[0;34m]\u001b[0m \u001b[0;34m=\u001b[0m \u001b[0mfiles\u001b[0m\u001b[0;34m[\u001b[0m\u001b[0;34m'title'\u001b[0m\u001b[0;34m]\u001b[0m\u001b[0;34m.\u001b[0m\u001b[0mapply\u001b[0m\u001b[0;34m(\u001b[0m\u001b[0;32mlambda\u001b[0m \u001b[0mtext\u001b[0m\u001b[0;34m:\u001b[0m \u001b[0mtext\u001b[0m\u001b[0;34m.\u001b[0m\u001b[0mdecode\u001b[0m\u001b[0;34m(\u001b[0m\u001b[0;34m\"utf-8\"\u001b[0m\u001b[0;34m,\u001b[0m \u001b[0;34m\"ignore\"\u001b[0m\u001b[0;34m)\u001b[0m\u001b[0;34m)\u001b[0m\u001b[0;34m\u001b[0m\u001b[0;34m\u001b[0m\u001b[0m\n",
      "\u001b[0;31mAttributeError\u001b[0m: 'str' object has no attribute 'decode'"
     ]
    }
   ],
   "source": [
    "files['artist'] = tags.map(lambda path: path.artist)\n",
    "files['album'] = tags.map(lambda path: path.album)\n",
    "files['title'] = tags.map(lambda path: path.title)\n",
    "\n",
    "files['artist'] = files['artist'].apply(lambda text: text.decode(\"utf-8\", \"ignore\"))\n",
    "files['album'] = files['album'].apply(lambda text: text.decode(\"utf-8\", \"ignore\"))\n",
    "files['title'] = files['title'].apply(lambda text: text.decode(\"utf-8\", \"ignore\"))"
   ]
  },
  {
   "cell_type": "code",
   "execution_count": null,
   "metadata": {},
   "outputs": [],
   "source": []
  },
  {
   "cell_type": "code",
   "execution_count": 117,
   "metadata": {},
   "outputs": [
    {
     "data": {
      "text/html": [
       "<div>\n",
       "<style scoped>\n",
       "    .dataframe tbody tr th:only-of-type {\n",
       "        vertical-align: middle;\n",
       "    }\n",
       "\n",
       "    .dataframe tbody tr th {\n",
       "        vertical-align: top;\n",
       "    }\n",
       "\n",
       "    .dataframe thead th {\n",
       "        text-align: right;\n",
       "    }\n",
       "</style>\n",
       "<table border=\"1\" class=\"dataframe\">\n",
       "  <thead>\n",
       "    <tr style=\"text-align: right;\">\n",
       "      <th></th>\n",
       "      <th>path</th>\n",
       "      <th>ext</th>\n",
       "      <th>artist</th>\n",
       "      <th>album</th>\n",
       "      <th>year</th>\n",
       "      <th>title</th>\n",
       "    </tr>\n",
       "  </thead>\n",
       "  <tbody>\n",
       "    <tr>\n",
       "      <th>0</th>\n",
       "      <td>/Volumes/Transcend/iTunes/iTunes Media/Music/D...</td>\n",
       "      <td>mp3</td>\n",
       "      <td>Deep Purple</td>\n",
       "      <td>The Book Of Taliesyn (2000. 6-70211-5063-2)</td>\n",
       "      <td>1968</td>\n",
       "      <td>Playground</td>\n",
       "    </tr>\n",
       "    <tr>\n",
       "      <th>1</th>\n",
       "      <td>/Volumes/Transcend/iTunes/iTunes Media/Music/D...</td>\n",
       "      <td>mp3</td>\n",
       "      <td>Deep Purple</td>\n",
       "      <td>The Book Of Taliesyn (2000. 6-70211-5063-2)</td>\n",
       "      <td>1968</td>\n",
       "      <td>It's All Over</td>\n",
       "    </tr>\n",
       "    <tr>\n",
       "      <th>2</th>\n",
       "      <td>/Volumes/Transcend/iTunes/iTunes Media/Music/D...</td>\n",
       "      <td>mp3</td>\n",
       "      <td>Deep Purple</td>\n",
       "      <td>The Book Of Taliesyn (2000. 6-70211-5063-2)</td>\n",
       "      <td>1968</td>\n",
       "      <td>Oh No No No</td>\n",
       "    </tr>\n",
       "    <tr>\n",
       "      <th>3</th>\n",
       "      <td>/Volumes/Transcend/iTunes/iTunes Media/Music/D...</td>\n",
       "      <td>mp3</td>\n",
       "      <td>Deep Purple</td>\n",
       "      <td>The Book Of Taliesyn (2000. 6-70211-5063-2)</td>\n",
       "      <td>1968</td>\n",
       "      <td>Wring That Neck</td>\n",
       "    </tr>\n",
       "    <tr>\n",
       "      <th>4</th>\n",
       "      <td>/Volumes/Transcend/iTunes/iTunes Media/Music/D...</td>\n",
       "      <td>mp3</td>\n",
       "      <td>Deep Purple</td>\n",
       "      <td>The Book Of Taliesyn (2000. 6-70211-5063-2)</td>\n",
       "      <td>1968</td>\n",
       "      <td>Kentucky Woman</td>\n",
       "    </tr>\n",
       "    <tr>\n",
       "      <th>...</th>\n",
       "      <td>...</td>\n",
       "      <td>...</td>\n",
       "      <td>...</td>\n",
       "      <td>...</td>\n",
       "      <td>...</td>\n",
       "      <td>...</td>\n",
       "    </tr>\n",
       "    <tr>\n",
       "      <th>10619</th>\n",
       "      <td>/Volumes/Transcend/iTunes/iTunes Media/Music/L...</td>\n",
       "      <td>m4a</td>\n",
       "      <td>Lara Fabian</td>\n",
       "      <td>Pure</td>\n",
       "      <td>1996</td>\n",
       "      <td>Je T'aime</td>\n",
       "    </tr>\n",
       "    <tr>\n",
       "      <th>10620</th>\n",
       "      <td>/Volumes/Transcend/iTunes/iTunes Media/Music/A...</td>\n",
       "      <td>mp3</td>\n",
       "      <td>April March</td>\n",
       "      <td>Chick Habit</td>\n",
       "      <td>1995</td>\n",
       "      <td>Chick Habit</td>\n",
       "    </tr>\n",
       "    <tr>\n",
       "      <th>10621</th>\n",
       "      <td>/Volumes/Transcend/iTunes/iTunes Media/Music/L...</td>\n",
       "      <td>mp3</td>\n",
       "      <td>Laura Branigan</td>\n",
       "      <td>Self Control</td>\n",
       "      <td>1984</td>\n",
       "      <td>Self Control</td>\n",
       "    </tr>\n",
       "    <tr>\n",
       "      <th>10622</th>\n",
       "      <td>/Volumes/Transcend/iTunes/iTunes Media/Music/S...</td>\n",
       "      <td>mp3</td>\n",
       "      <td>Skeeter Davis</td>\n",
       "      <td>The Best Of Skeeter Davis</td>\n",
       "      <td>1964</td>\n",
       "      <td>The End Of The World</td>\n",
       "    </tr>\n",
       "    <tr>\n",
       "      <th>10623</th>\n",
       "      <td>/Volumes/Transcend/iTunes/iTunes Media/Music/W...</td>\n",
       "      <td>mp3</td>\n",
       "      <td>Wye Oak</td>\n",
       "      <td>Civilian</td>\n",
       "      <td>2011</td>\n",
       "      <td>Civilian</td>\n",
       "    </tr>\n",
       "  </tbody>\n",
       "</table>\n",
       "<p>10624 rows × 6 columns</p>\n",
       "</div>"
      ],
      "text/plain": [
       "                                                    path  ext          artist  \\\n",
       "0      /Volumes/Transcend/iTunes/iTunes Media/Music/D...  mp3     Deep Purple   \n",
       "1      /Volumes/Transcend/iTunes/iTunes Media/Music/D...  mp3     Deep Purple   \n",
       "2      /Volumes/Transcend/iTunes/iTunes Media/Music/D...  mp3     Deep Purple   \n",
       "3      /Volumes/Transcend/iTunes/iTunes Media/Music/D...  mp3     Deep Purple   \n",
       "4      /Volumes/Transcend/iTunes/iTunes Media/Music/D...  mp3     Deep Purple   \n",
       "...                                                  ...  ...             ...   \n",
       "10619  /Volumes/Transcend/iTunes/iTunes Media/Music/L...  m4a     Lara Fabian   \n",
       "10620  /Volumes/Transcend/iTunes/iTunes Media/Music/A...  mp3     April March   \n",
       "10621  /Volumes/Transcend/iTunes/iTunes Media/Music/L...  mp3  Laura Branigan   \n",
       "10622  /Volumes/Transcend/iTunes/iTunes Media/Music/S...  mp3   Skeeter Davis   \n",
       "10623  /Volumes/Transcend/iTunes/iTunes Media/Music/W...  mp3         Wye Oak   \n",
       "\n",
       "                                             album  year                 title  \n",
       "0      The Book Of Taliesyn (2000. 6-70211-5063-2)  1968            Playground  \n",
       "1      The Book Of Taliesyn (2000. 6-70211-5063-2)  1968         It's All Over  \n",
       "2      The Book Of Taliesyn (2000. 6-70211-5063-2)  1968           Oh No No No  \n",
       "3      The Book Of Taliesyn (2000. 6-70211-5063-2)  1968       Wring That Neck  \n",
       "4      The Book Of Taliesyn (2000. 6-70211-5063-2)  1968        Kentucky Woman  \n",
       "...                                            ...   ...                   ...  \n",
       "10619                                         Pure  1996             Je T'aime  \n",
       "10620                                  Chick Habit  1995           Chick Habit  \n",
       "10621                                 Self Control  1984          Self Control  \n",
       "10622                    The Best Of Skeeter Davis  1964  The End Of The World  \n",
       "10623                                     Civilian  2011              Civilian  \n",
       "\n",
       "[10624 rows x 6 columns]"
      ]
     },
     "execution_count": 117,
     "metadata": {},
     "output_type": "execute_result"
    }
   ],
   "source": [
    "files"
   ]
  },
  {
   "cell_type": "code",
   "execution_count": null,
   "metadata": {},
   "outputs": [],
   "source": []
  },
  {
   "cell_type": "code",
   "execution_count": null,
   "metadata": {},
   "outputs": [],
   "source": []
  },
  {
   "cell_type": "code",
   "execution_count": 7,
   "metadata": {},
   "outputs": [
    {
     "data": {
      "text/plain": [
       "(216, 1)"
      ]
     },
     "execution_count": 7,
     "metadata": {},
     "output_type": "execute_result"
    }
   ],
   "source": [
    "files.shape"
   ]
  },
  {
   "cell_type": "code",
   "execution_count": 136,
   "metadata": {},
   "outputs": [],
   "source": [
    "files.to_excel('processed4.xlsx', sheet_name='files')"
   ]
  },
  {
   "cell_type": "code",
   "execution_count": null,
   "metadata": {},
   "outputs": [],
   "source": [
    "os.walk(root)"
   ]
  },
  {
   "cell_type": "code",
   "execution_count": 16,
   "metadata": {
    "tags": []
   },
   "outputs": [
    {
     "name": "stdout",
     "output_type": "stream",
     "text": [
      "('/Users/denysboiko/Desktop/extra/', [], ['GMOM.mp3', 'LKCV.mp3', 'FRFY.mp3', 'QIXD.mp3', 'DLTJ.mp3', 'CRRG.mp3', 'HAFT.mp3', 'CDOV.mp3', 'EUHO.mp3', 'APFQ.mp3', 'VXLW.mp3', 'QDRI.mp3', 'HWXJ.mp3', 'UOHH.mp3', 'ENKA.mp3', 'ZENN.mp3', 'YTSB.mp3', 'THGH.mp3', 'JGHH.mp3', 'IWJF.mp3', 'GEZG.mp3', 'MARI.mp3', 'APDX.mp3', 'MJWN.mp3', 'CSWM.mp3', 'PDYC.mp3', 'VPUN.mp3', 'GIAD.mp3', '.DS_Store', 'FXFC.mp3', 'MUTB.mp3', 'BDRR.mp3', 'TOVU.mp3', 'ZNFJ.mp3', 'NTAX.mp3', 'SKYB.mp3', 'DDOL.mp3', 'ZKCW.mp3', 'CTIN.mp3', 'FVQQ.mp3', 'WTJT.mp3', 'OOGR.mp3', 'KOXU.mp3', 'AVKW.mp3', 'WMEX.mp3', 'BOVR.mp3', 'HZKA.mp3', 'EGMO.mp3', 'BBKM.m4a', 'OREJ.mp3', 'UVDN.mp3', 'AUZK.mp3', 'BKOT.mp3', 'KLJR.mp3', 'ZLWE.mp3', 'CXWC.mp3', 'ZLTQ.m4a', 'VVPV.mp3', 'EPJA.mp3', 'GLLM.m4a', 'VEPH.mp3', 'GEKX.mp3', 'ECPG.mp3', 'STFT.mp3', 'WXNV.mp3', 'PPUK.mp3', 'PLSB.m4a', 'PBGP.mp3', 'YBKJ.mp3', 'AWIL.mp3', 'GSYS.mp3', 'LTGZ.mp3', 'YTMG.mp3', 'FOCD.mp3', 'IRPO.mp3', 'HFRW.mp3', 'ASDN.mp3', 'JJHF.mp3', 'PNQS.mp3', 'QVDX.mp3', 'GJLF.mp3', 'JQER.mp3', 'JDPK.mp3', 'UQRD.mp3', 'RXXG.mp3', 'JHGX.mp3', 'BWBC.mp3', 'QMDK.mp3', 'HGVL.mp3', 'TTEV.mp3', 'ACOF.mp3', 'FVBG.mp3', 'XESP.mp3', 'ILXR.mp3', 'GBTL.mp3', 'UEZA.mp3', 'YGNF.mp3', 'VTHB.mp3', 'IQLQ.mp3', 'WNPT.m4a', 'EWYC.mp3', 'ABKM.mp3', 'UPNI.mp3', 'MPUB.mp3', 'BOQT.mp3', 'FMVV.mp3', 'NKFN.mp3', 'SVJQ.mp3', 'PXZH.mp3', 'NBZH.mp3', 'WBQF.mp3', 'FWPW.mp3', 'MCBC.mp3', 'NXQO.mp3', 'ITEC.mp3', 'FINO.mp3', 'ORZQ.mp3', 'YZUS.mp3', 'OQQC.mp3', 'PZXO.mp3', 'MEZN.mp3', 'GUMM.mp3', 'YOYI.mp3', 'DWDL.mp3', 'CUIW.mp3', 'AJDF.mp3', 'RQJE.mp3', 'JSHN.mp3', 'ZEQD.mp3', 'VXHW.mp3', 'GQYO.mp3', 'XPSD.mp3', 'HZAO.mp3', 'OTMJ.mp3', 'WMOV.mp3', 'PMLS.mp3', 'LVJY.m4a', 'OFSJ.m4a', 'WJFI.mp3', 'NBXX.mp3', 'WEVK.mp3', 'BEPB.mp3', 'RCYY.mp3', 'RVCO.mp3', 'HGLO.mp3', 'AUQW.mp3', 'CZBO.mp3', 'FUJG.mp3', 'VEHA.mp3', 'VUUO.m4a', 'YXBP.m4a', 'GYTR.mp3', 'JFFT.m4a', 'AWGH.mp3', 'UJHW.mp3', 'PKBX.mp3', 'XLMB.mp3', 'KFNM.mp3', 'VKDN.mp3', 'OMBV.mp3', 'NNCY.mp3', 'EAKC.mp3', 'IGGQ.mp3', 'VTHH.mp3', 'VAPA.mp3', 'UZTS.mp3', 'LNNL.mp3', 'EPQQ.mp3', 'RJGG.mp3', 'KEAF.mp3', 'XOWH.mp3', 'QMUA.m4a', 'PNOJ.mp3', 'YGGD.mp3', 'YXFS.mp3', 'NPOY.mp3', 'OVHD.mp3', 'VKZY.mp3', 'XGOP.mp3', 'IRNW.mp3', 'BJDH.mp3', 'GYSS.mp3', 'STCR.mp3', 'LWKD.mp3', 'XDEP.mp3', 'EPAZ.mp3', 'WBOO.mp3', 'XXTG.m4a', 'LNRQ.mp3', 'XCZV.mp3', 'FASL.mp3', 'BVUR.mp3', 'VWHX.mp3', 'XPAT.mp3', 'EABQ.m4a', 'SCYR.mp3', 'JNMD.mp3', 'GRTH.mp3', 'FEHT.mp3', 'HEIU.mp3', 'UCII.mp3', 'IOTO.mp3', 'FLZK.mp3', 'UQLH.mp3', 'JYWT.mp3', 'UNVB.mp3', 'AJXZ.mp3', 'ECNZ.mp3', 'SAUY.m4a', 'ODLU.mp3', 'UCKK.m4a', 'DAPA.mp3', 'EURY.mp3', 'KBEX.mp3', 'RCDB.mp3', 'DAHR.mp3', 'BRLE.mp3', 'VMBK.mp3', 'YCKQ.mp3', 'WVSK.mp3', 'WGRD.mp3'])\n"
     ]
    }
   ],
   "source": [
    "for n in os.walk(root):\n",
    "    print(n)"
   ]
  },
  {
   "cell_type": "code",
   "execution_count": null,
   "metadata": {},
   "outputs": [],
   "source": []
  },
  {
   "cell_type": "code",
   "execution_count": 123,
   "metadata": {},
   "outputs": [],
   "source": [
    "ILLEGAL_CHARACTERS_RE = re.compile(r'[\\000-\\010]|[\\013-\\014]|[\\016-\\037]')\n",
    "files = files.applymap(lambda x: ILLEGAL_CHARACTERS_RE.sub(r'', x) if isinstance(x, str) else x)"
   ]
  },
  {
   "cell_type": "code",
   "execution_count": 17,
   "metadata": {},
   "outputs": [
    {
     "name": "stdout",
     "output_type": "stream",
     "text": [
      "[]\n"
     ]
    }
   ],
   "source": [
    "print(glob.glob(\"/Users/denysboiko/Desktop/extra/Dr. Dre/2001/*.mp3\"))"
   ]
  },
  {
   "cell_type": "code",
   "execution_count": null,
   "metadata": {},
   "outputs": [],
   "source": []
  },
  {
   "cell_type": "code",
   "execution_count": null,
   "metadata": {},
   "outputs": [],
   "source": []
  },
  {
   "cell_type": "code",
   "execution_count": 40,
   "metadata": {},
   "outputs": [],
   "source": []
  },
  {
   "cell_type": "code",
   "execution_count": null,
   "metadata": {},
   "outputs": [],
   "source": [
    "os.path.getsize('/Users/denysboiko/Desktop/iPod Classic Music/F01/BBKM.m4a')"
   ]
  },
  {
   "cell_type": "code",
   "execution_count": null,
   "metadata": {},
   "outputs": [],
   "source": [
    "os.stat('/Users/denysboiko/Desktop/iPod Classic Music/F01/BBKM.m4a')"
   ]
  },
  {
   "cell_type": "code",
   "execution_count": null,
   "metadata": {},
   "outputs": [],
   "source": []
  },
  {
   "cell_type": "code",
   "execution_count": 14,
   "metadata": {},
   "outputs": [],
   "source": [
    "tag = eyed3.core.Tag"
   ]
  },
  {
   "cell_type": "code",
   "execution_count": 17,
   "metadata": {},
   "outputs": [
    {
     "ename": "AttributeError",
     "evalue": "'NoneType' object has no attribute 'tag'",
     "output_type": "error",
     "traceback": [
      "\u001b[0;31m---------------------------------------------------------------------------\u001b[0m",
      "\u001b[0;31mAttributeError\u001b[0m                            Traceback (most recent call last)",
      "\u001b[0;32m<ipython-input-17-e1ef2ace987e>\u001b[0m in \u001b[0;36m<module>\u001b[0;34m\u001b[0m\n\u001b[1;32m      1\u001b[0m \u001b[0maudiofile\u001b[0m \u001b[0;34m=\u001b[0m \u001b[0meyed3\u001b[0m\u001b[0;34m.\u001b[0m\u001b[0mload\u001b[0m\u001b[0;34m(\u001b[0m\u001b[0;34m\"/Volumes/Transcend/d/01 Enter Sandman 1.m4a\"\u001b[0m\u001b[0;34m)\u001b[0m\u001b[0;34m\u001b[0m\u001b[0;34m\u001b[0m\u001b[0m\n\u001b[1;32m      2\u001b[0m \u001b[0;31m# print tag.title()\u001b[0m\u001b[0;34m\u001b[0m\u001b[0;34m\u001b[0m\u001b[0;34m\u001b[0m\u001b[0m\n\u001b[0;32m----> 3\u001b[0;31m \u001b[0maudiofile\u001b[0m\u001b[0;34m.\u001b[0m\u001b[0mtag\u001b[0m\u001b[0;34m.\u001b[0m\u001b[0mgetTitle\u001b[0m\u001b[0;34m(\u001b[0m\u001b[0;34m)\u001b[0m\u001b[0;34m\u001b[0m\u001b[0;34m\u001b[0m\u001b[0m\n\u001b[0m\u001b[1;32m      4\u001b[0m \u001b[0;31m# print tag.getTitle()\u001b[0m\u001b[0;34m\u001b[0m\u001b[0;34m\u001b[0m\u001b[0;34m\u001b[0m\u001b[0m\n",
      "\u001b[0;31mAttributeError\u001b[0m: 'NoneType' object has no attribute 'tag'"
     ]
    }
   ],
   "source": [
    "\n",
    "audiofile = eyed3.load(\"/Volumes/Transcend/d/01 Enter Sandman 1.m4a\")\n",
    "# print tag.title()\n",
    "audiofile.tag.getTitle()\n",
    "# print tag.getTitle()"
   ]
  },
  {
   "cell_type": "code",
   "execution_count": 18,
   "metadata": {},
   "outputs": [],
   "source": [
    "\n",
    "audiofile = eyed3.load(\"/Volumes/Transcend/d/01 Enter Sandman 1.m4a\")\n",
    "audiofile"
   ]
  },
  {
   "cell_type": "code",
   "execution_count": 20,
   "metadata": {},
   "outputs": [
    {
     "ename": "AttributeError",
     "evalue": "'NoneType' object has no attribute 'tag'",
     "output_type": "error",
     "traceback": [
      "\u001b[0;31m---------------------------------------------------------------------------\u001b[0m",
      "\u001b[0;31mAttributeError\u001b[0m                            Traceback (most recent call last)",
      "\u001b[0;32m<ipython-input-20-931417b19bef>\u001b[0m in \u001b[0;36m<module>\u001b[0;34m\u001b[0m\n\u001b[0;32m----> 1\u001b[0;31m \u001b[0maudiofile\u001b[0m\u001b[0;34m.\u001b[0m\u001b[0mtag\u001b[0m\u001b[0;34m\u001b[0m\u001b[0;34m\u001b[0m\u001b[0m\n\u001b[0m",
      "\u001b[0;31mAttributeError\u001b[0m: 'NoneType' object has no attribute 'tag'"
     ]
    }
   ],
   "source": [
    "audiofile.tag"
   ]
  },
  {
   "cell_type": "code",
   "execution_count": null,
   "metadata": {},
   "outputs": [],
   "source": []
  },
  {
   "cell_type": "code",
   "execution_count": null,
   "metadata": {},
   "outputs": [],
   "source": [
    "for path in absoluteFilePaths(root):\n",
    "    print md5(path)"
   ]
  },
  {
   "cell_type": "code",
   "execution_count": null,
   "metadata": {},
   "outputs": [],
   "source": [
    "root = \"/Users/denysboiko/Music/iTunes/iTunes Media/Music\"\n",
    "\n",
    "\n",
    "\n",
    "for path, subdirs, files in os.walk(root):\n",
    "    for subdir in subdirs:\n",
    "#         print (name, md5(os.path.join(root,name)))\n",
    "        print subdir\n",
    "#     for name in files:\n",
    "# #         print (name, md5(os.path.join(root,name)))\n",
    "#         print os.path.join(root, name)"
   ]
  },
  {
   "cell_type": "code",
   "execution_count": null,
   "metadata": {},
   "outputs": [],
   "source": [
    "from lxml import objectify"
   ]
  },
  {
   "cell_type": "code",
   "execution_count": null,
   "metadata": {},
   "outputs": [],
   "source": [
    "xml = objectify.parse(open('/Users/denysboiko/Desktop/Медиатека.xml'))"
   ]
  },
  {
   "cell_type": "code",
   "execution_count": null,
   "metadata": {},
   "outputs": [],
   "source": [
    "strings = []\n",
    "for e in xml.getroot().getchildren()[0].getchildren()[17].iter('string'):\n",
    "    strings.append(e)"
   ]
  },
  {
   "cell_type": "code",
   "execution_count": null,
   "metadata": {},
   "outputs": [],
   "source": [
    "xml.getroot().getchildren()[0].getchildren()[17]"
   ]
  },
  {
   "cell_type": "code",
   "execution_count": null,
   "metadata": {},
   "outputs": [],
   "source": [
    "len(strings)"
   ]
  },
  {
   "cell_type": "code",
   "execution_count": null,
   "metadata": {},
   "outputs": [],
   "source": [
    "xml_strings = strings"
   ]
  },
  {
   "cell_type": "code",
   "execution_count": null,
   "metadata": {},
   "outputs": [],
   "source": [
    "'string'[:5]"
   ]
  },
  {
   "cell_type": "code",
   "execution_count": null,
   "metadata": {},
   "outputs": [],
   "source": [
    "for s in strings"
   ]
  },
  {
   "cell_type": "code",
   "execution_count": null,
   "metadata": {},
   "outputs": [],
   "source": [
    "xml_strings[35][:5]"
   ]
  },
  {
   "cell_type": "code",
   "execution_count": null,
   "metadata": {},
   "outputs": [],
   "source": [
    "text_file = open('test.txt', 'w')\n",
    "for item in xml_strings:\n",
    "    text_file.write(\"%s\\n\" % item.encode('utf-8'))"
   ]
  },
  {
   "cell_type": "code",
   "execution_count": null,
   "metadata": {},
   "outputs": [],
   "source": [
    "xml_strings"
   ]
  },
  {
   "cell_type": "code",
   "execution_count": null,
   "metadata": {},
   "outputs": [],
   "source": [
    "xml_strings[99268]"
   ]
  },
  {
   "cell_type": "code",
   "execution_count": null,
   "metadata": {},
   "outputs": [],
   "source": [
    "for i in range(0,99270):\n",
    "    if ('file' in xml_strings[i]):\n",
    "        print xml_strings[i]"
   ]
  },
  {
   "cell_type": "code",
   "execution_count": null,
   "metadata": {},
   "outputs": [],
   "source": [
    "len(xml_strings)"
   ]
  },
  {
   "cell_type": "code",
   "execution_count": null,
   "metadata": {},
   "outputs": [],
   "source": [
    "strings_series = pd.Series(strings)"
   ]
  },
  {
   "cell_type": "code",
   "execution_count": null,
   "metadata": {},
   "outputs": [],
   "source": [
    "for e in xml.getroot().getchildren()[0].getchildren()[17].iter('dict'):\n",
    "    print e[0]"
   ]
  },
  {
   "cell_type": "code",
   "execution_count": null,
   "metadata": {},
   "outputs": [],
   "source": [
    "xml"
   ]
  },
  {
   "cell_type": "code",
   "execution_count": null,
   "metadata": {},
   "outputs": [],
   "source": []
  },
  {
   "cell_type": "code",
   "execution_count": 70,
   "metadata": {},
   "outputs": [],
   "source": [
    "new_folder = '/Users/denysboiko/Music/REST'\n",
    "new_files = pd.Series(list(absoluteFilePaths(new_folder))).to_frame(name = 'path')\n",
    "new_files['ext'] = new_files.path.apply(lambda x: x.split('.')[-1::][0])\n",
    "new_files['md5'] = new_files.path.apply(md5)"
   ]
  },
  {
   "cell_type": "code",
   "execution_count": 73,
   "metadata": {},
   "outputs": [],
   "source": [
    "new_files = new_files[new_files['ext'] != 'DS_Store']"
   ]
  },
  {
   "cell_type": "code",
   "execution_count": 102,
   "metadata": {},
   "outputs": [],
   "source": [
    "tags = files.path.map(lambda path: TinyTag.get(path))"
   ]
  },
  {
   "cell_type": "code",
   "execution_count": 79,
   "metadata": {},
   "outputs": [
    {
     "data": {
      "text/plain": [
       "0    Pink Floyd\n",
       "2            U2\n",
       "3            U2\n",
       "Name: path, dtype: object"
      ]
     },
     "execution_count": 79,
     "metadata": {},
     "output_type": "execute_result"
    }
   ],
   "source": [
    "tags.map(lambda tag: tag.artist)"
   ]
  },
  {
   "cell_type": "code",
   "execution_count": 132,
   "metadata": {},
   "outputs": [
    {
     "data": {
      "text/plain": [
       "0        44100.0\n",
       "1        44100.0\n",
       "2        44100.0\n",
       "3        44100.0\n",
       "4        44100.0\n",
       "          ...   \n",
       "10619        NaN\n",
       "10620    44100.0\n",
       "10621    44100.0\n",
       "10622    44100.0\n",
       "10623    44100.0\n",
       "Name: path, Length: 10624, dtype: float64"
      ]
     },
     "execution_count": 132,
     "metadata": {},
     "output_type": "execute_result"
    }
   ],
   "source": [
    "tags.map(lambda path: path.samplerate)"
   ]
  },
  {
   "cell_type": "code",
   "execution_count": 105,
   "metadata": {},
   "outputs": [],
   "source": [
    "files['artist'] = tags.map(lambda path: path.artist)\n",
    "files['album'] = tags.map(lambda path: path.album)\n",
    "files['year'] = tags.map(lambda path: path.year)\n",
    "files['title'] = tags.map(lambda path: path.title)"
   ]
  },
  {
   "cell_type": "code",
   "execution_count": 135,
   "metadata": {},
   "outputs": [],
   "source": [
    "files['bitrate'] = tags.map(lambda path: path.bitrate)\n",
    "files['samplerate'] = tags.map(lambda path: path.samplerate)\n",
    "files['genre'] = tags.map(lambda path: path.genre)\n",
    "files['filesize'] = tags.map(lambda path: path.filesize)\n",
    "files['track'] = tags.map(lambda path: path.track)\n",
    "files['audio_offset'] = tags.map(lambda path: path.audio_offset)"
   ]
  },
  {
   "cell_type": "code",
   "execution_count": 112,
   "metadata": {},
   "outputs": [],
   "source": [
    "def clean_text(text):\n",
    "    if not text is None:\n",
    "        return ''.join([\"\" if ord(i) < 32 or ord(i) > 126 else i for i in text])"
   ]
  },
  {
   "cell_type": "code",
   "execution_count": 113,
   "metadata": {},
   "outputs": [],
   "source": [
    "files['artist'] = files['artist'].apply(clean_text)\n",
    "files['album'] = files['album'].apply(clean_text)\n",
    "files['title'] = files['title'].apply(clean_text)"
   ]
  },
  {
   "cell_type": "code",
   "execution_count": null,
   "metadata": {},
   "outputs": [],
   "source": []
  },
  {
   "cell_type": "code",
   "execution_count": null,
   "metadata": {},
   "outputs": [],
   "source": []
  },
  {
   "cell_type": "code",
   "execution_count": 61,
   "metadata": {},
   "outputs": [
    {
     "data": {
      "text/plain": [
       "array(['Black Sabbath', '311', 'Sopor Aeternus & The Ensemble Of Shadows',\n",
       "       'Ko n', 'Status Quo', 'Within Temptation', 'Sex Pistols',\n",
       "       'Three Days Grace', 'Kiss', 'The Who', 'Dope', '    Iron Maiden',\n",
       "       'Saron Gas', 'Chopin (Garrick Ohlsson)', 'Killing Joke', 'AC/DC',\n",
       "       'Red Hot Chili Peppers', 'The Beatles', 'The Hives', 'Steve Vai',\n",
       "       'Judas Priest', 'Breaking Benjamin', 'Saliva', 'Fall Out Boy',\n",
       "       'Smash Mouth', 'Deep Purple', 'Billy Talent', 'Pearl Jam',\n",
       "       'Morphine', 'A.F.I.', 'a-ha', 'Tom Ze', 'David Bowie',\n",
       "       'The Good, The Bad & The Queen', 'Guano Apes', 'The Doors', '  -2',\n",
       "       'Iron Maiden', 'L k', 'Daughtry', 'Placebo', 'David Guetta',\n",
       "       'The Offspring', 'Rob Zombie', 'Kasabian', 'Mr. Bungle',\n",
       "       'Clawfinger', 'Linkin Park', 'Otep', '30 Seconds to Mars',\n",
       "       'Tim Minchin', 'U2', 'Tool', 'Avenged Sevenfold', 'Lana Del Rey',\n",
       "       'The Prodigy', 'Ozzy Osbourne', 'Hopsin', 'She Wants Revenge',\n",
       "       'The Who                       ', 'Deftones', 'As I Lay Dying',\n",
       "       'Nirvana', 'Eminem', 'Paul McCartney', 'The Bloody Beetroots',\n",
       "       'Lifehouse', 'Green Day', 'Rise Against', 'Led Zeppelin',\n",
       "       'The Verve', 'Pink Floyd', 'Gorillaz', 'Dead By Sunrise',\n",
       "       'Dog Eat Dog', 'Rammstein', \"5'nizza\", 'Methods of Mayhem',\n",
       "       'Limp Bizkit', 'P.O.D.', 'Nonpoint', 'Disturbed', 'Noize MC',\n",
       "       '             ', 'Serj Tankian', 'Weezer', 'Blur',\n",
       "       'Patrice Fontanarosa, I Nuovo Virtuosi di Roma'], dtype=object)"
      ]
     },
     "execution_count": 61,
     "metadata": {},
     "output_type": "execute_result"
    }
   ],
   "source": [
    "new_files['artist'].unique()"
   ]
  },
  {
   "cell_type": "code",
   "execution_count": 81,
   "metadata": {},
   "outputs": [],
   "source": [
    "new_files.to_excel('rest-2.xlsx', sheet_name='files')"
   ]
  },
  {
   "cell_type": "code",
   "execution_count": null,
   "metadata": {},
   "outputs": [],
   "source": []
  }
 ],
 "metadata": {
  "kernelspec": {
   "display_name": "Python 3",
   "language": "python",
   "name": "python3"
  },
  "language_info": {
   "codemirror_mode": {
    "name": "ipython",
    "version": 3
   },
   "file_extension": ".py",
   "mimetype": "text/x-python",
   "name": "python",
   "nbconvert_exporter": "python",
   "pygments_lexer": "ipython3",
   "version": "3.9.4"
  }
 },
 "nbformat": 4,
 "nbformat_minor": 4
}
